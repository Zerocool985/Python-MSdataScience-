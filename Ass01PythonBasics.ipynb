{
 "cells": [
  {
   "cell_type": "markdown",
   "metadata": {},
   "source": [
    "# Exercises on Python Basics\n",
    "\n",
    "* Author: Johannes Maucher\n",
    "* Last Update: 07.10.2018\n",
    "\n",
    "\n",
    "## To be submitted:\n",
    "This notebook, enhanced with the solutions to the questions. Your solution should contain \n",
    "   * the implemented code in code-cells, \n",
    "   * the output of this code\n",
    "   * in adddition to the jupyter notebook (.ipynb) the corresponding .html\n",
    "\n",
    "## Tasks\n"
   ]
  },
  {
   "cell_type": "markdown",
   "metadata": {},
   "source": [
    "### Python's math library\n",
    "The library `math` is contained in core-python, i.e. it need not be installed explicitely. Get an overview of the functions provided by [math](https://docs.python.org/3/library/math.html) and sove the following questions:\n",
    "\n",
    "1. Apply the corresponding `math`-functions for calculating the largest integer smaller than $\\pi$ and the smallest integer larger than $\\pi$.\n",
    "2. Calculate the greatest commond divisor of $20240$ and $960$.\n",
    "3. Calculate the value of $e^3$ (here $e$ is the *Euler constant*)\n",
    "4. Calculate the natural-logarithm, the base-2-logarithm and the base-5-logarithm of 100.\n",
    "5. Apply `math` and `matplotlib` and plot the [Gaussian Normal Distribution](https://en.wikipedia.org/wiki/Normal_distribution) for a mean-value and a standard-deviation of your choice."
   ]
  },
  {
   "cell_type": "code",
   "execution_count": 4,
   "metadata": {
    "collapsed": true
   },
   "outputs": [],
   "source": [
    "import math"
   ]
  },
  {
   "cell_type": "markdown",
   "metadata": {},
   "source": [
    "### 1."
   ]
  },
  {
   "cell_type": "code",
   "execution_count": 5,
   "metadata": {
    "scrolled": true
   },
   "outputs": [
    {
     "name": "stdout",
     "output_type": "stream",
     "text": [
      "3\n",
      "4\n"
     ]
    }
   ],
   "source": [
    "si=math.floor(math.pi)\n",
    "print(si)\n",
    "li=math.ceil(math.pi)\n",
    "print(li)"
   ]
  },
  {
   "cell_type": "markdown",
   "metadata": {},
   "source": [
    "### 2."
   ]
  },
  {
   "cell_type": "code",
   "execution_count": 6,
   "metadata": {},
   "outputs": [
    {
     "name": "stdout",
     "output_type": "stream",
     "text": [
      "80\n"
     ]
    }
   ],
   "source": [
    "gd=math.gcd(20240,960)\n",
    "print(gd)\n"
   ]
  },
  {
   "cell_type": "markdown",
   "metadata": {},
   "source": [
    "### 3."
   ]
  },
  {
   "cell_type": "code",
   "execution_count": 7,
   "metadata": {},
   "outputs": [
    {
     "data": {
      "text/plain": [
       "20.085536923187664"
      ]
     },
     "execution_count": 7,
     "metadata": {},
     "output_type": "execute_result"
    }
   ],
   "source": [
    "math.e**3"
   ]
  },
  {
   "cell_type": "markdown",
   "metadata": {},
   "source": [
    "### 4. "
   ]
  },
  {
   "cell_type": "code",
   "execution_count": 8,
   "metadata": {},
   "outputs": [
    {
     "name": "stdout",
     "output_type": "stream",
     "text": [
      "4.605170185988092\n",
      "6.643856189774724\n",
      "2.8613531161467867\n"
     ]
    }
   ],
   "source": [
    "nl = math.log(100)\n",
    "print(nl)\n",
    "nl2=math.log2(100)\n",
    "print(nl2)\n",
    "nl5=math.log(100,5)\n",
    "print(nl5)"
   ]
  },
  {
   "cell_type": "markdown",
   "metadata": {},
   "source": [
    "### 5. "
   ]
  },
  {
   "cell_type": "code",
   "execution_count": 9,
   "metadata": {
    "collapsed": true
   },
   "outputs": [],
   "source": [
    "from matplotlib import pyplot as plt\n",
    "from scipy.stats import norm\n",
    "%matplotlib inline"
   ]
  },
  {
   "cell_type": "markdown",
   "metadata": {},
   "source": [
    "the function $matplotlib.mlab.normpdf(x, *args)$\n",
    "\n",
    "is \n",
    "Deprecated since version 2.2: scipy.stats.norm.pdf\n",
    "\n",
    "https://matplotlib.org/api/mlab_api.html"
   ]
  },
  {
   "cell_type": "code",
   "execution_count": 11,
   "metadata": {
    "collapsed": true
   },
   "outputs": [],
   "source": [
    "def pdf(x, mu, sigma):\n",
    "    return math.exp(-(x - mu)**2 / (2 * sigma**2)) / (sigma * (2 * math.pi)**0.5)\n"
   ]
  },
  {
   "cell_type": "code",
   "execution_count": 46,
   "metadata": {
    "scrolled": true
   },
   "outputs": [
    {
     "data": {
      "image/png": "[encoded data removed]",
      "text/plain": [
       "<matplotlib.figure.Figure at 0x26a43242c88>"
      ]
     },
     "metadata": {},
     "output_type": "display_data"
    }
   ],
   "source": [
    "x_axis = range(-20,20,1)\n",
    "mu=0\n",
    "sigma=4\n",
    "y_axis=[]\n",
    "for i in x_axis:\n",
    "    y_axis.append(pdf(i,mu,sigma))\n",
    "plt.plot(x_axis,y_axis)\n",
    "plt.show()\n",
    "    \n",
    "\n",
    "\n"
   ]
  },
  {
   "cell_type": "markdown",
   "metadata": {},
   "source": []
  },
  {
   "cell_type": "markdown",
   "metadata": {},
   "source": [
    "### Lists\n",
    "\n",
    "1. Create two lists of equal length with numeric data elements.\n",
    "2. Append the **elements** of the second list to the first list.\n",
    "3. In the new list, search for an element with a specific value and determine where the element appears in the list. How to process the case that the queried value is not in the list?\n",
    "4. Delete the elements from the list from the second to the fourth position (elements at indices 1, 2 and 3)\n",
    "4. Insert elements 4, 2 and 1 at position 2 sequentially (so that list is expanded)\n",
    "5. Sort the list by descending values.\n",
    "6. Calculate the element-wise sum of two numeric lists of the same length using a _List-Comprehension_. For example the element-wise sum of `[1,2,3]` and `[4,5,6]` is `[5,7,9]`."
   ]
  },
  {
   "cell_type": "markdown",
   "metadata": {},
   "source": [
    "### 1. "
   ]
  },
  {
   "cell_type": "code",
   "execution_count": 172,
   "metadata": {
    "collapsed": true
   },
   "outputs": [],
   "source": [
    "list1=[1,2,3]\n",
    "list2=[4,5,6]"
   ]
  },
  {
   "cell_type": "markdown",
   "metadata": {},
   "source": [
    "### 2. "
   ]
  },
  {
   "cell_type": "code",
   "execution_count": 173,
   "metadata": {},
   "outputs": [
    {
     "data": {
      "text/plain": [
       "[1, 2, 3, 4, 5, 6]"
      ]
     },
     "execution_count": 173,
     "metadata": {},
     "output_type": "execute_result"
    }
   ],
   "source": [
    "list1.extend(list2)\n",
    "list1"
   ]
  },
  {
   "cell_type": "markdown",
   "metadata": {},
   "source": [
    "### 3."
   ]
  },
  {
   "cell_type": "code",
   "execution_count": 174,
   "metadata": {},
   "outputs": [
    {
     "name": "stdout",
     "output_type": "stream",
     "text": [
      "4\n"
     ]
    }
   ],
   "source": [
    "try:\n",
    "    print(list1.index(5))\n",
    "except:\n",
    "    print(\"number not in the list\")"
   ]
  },
  {
   "cell_type": "markdown",
   "metadata": {},
   "source": [
    "### 4."
   ]
  },
  {
   "cell_type": "code",
   "execution_count": 175,
   "metadata": {
    "collapsed": true
   },
   "outputs": [],
   "source": [
    "del list1[1:4]"
   ]
  },
  {
   "cell_type": "markdown",
   "metadata": {},
   "source": [
    "### 5. "
   ]
  },
  {
   "cell_type": "code",
   "execution_count": 180,
   "metadata": {
    "collapsed": true
   },
   "outputs": [],
   "source": [
    "listnew=(4,2,1)\n",
    "\n",
    "for i in listnew :\n",
    "    list1.insert(2,i)"
   ]
  },
  {
   "cell_type": "markdown",
   "metadata": {},
   "source": [
    "### 6."
   ]
  },
  {
   "cell_type": "code",
   "execution_count": 185,
   "metadata": {
    "collapsed": true
   },
   "outputs": [],
   "source": [
    "list1.sort(reverse=True)"
   ]
  },
  {
   "cell_type": "markdown",
   "metadata": {},
   "source": [
    "### 7."
   ]
  },
  {
   "cell_type": "code",
   "execution_count": 187,
   "metadata": {},
   "outputs": [
    {
     "data": {
      "text/plain": [
       "[5, 7, 9]"
      ]
     },
     "execution_count": 187,
     "metadata": {},
     "output_type": "execute_result"
    }
   ],
   "source": [
    "list1=[1,2,3]\n",
    "list2=[4,5,6]\n",
    "list3=[list1[i]+list2[i] for i in range(len(list1))]\n",
    "list3"
   ]
  },
  {
   "cell_type": "markdown",
   "metadata": {},
   "source": [
    "### Strings\n",
    "\n",
    "1. Assign a text with at least 10 words to a string variable *text1*.\n",
    "2. transform *text1* such that all words are written in lower case.\n",
    "3. How many characters are in this text?\n",
    "4. How many different characters are in this text?\n",
    "5. Split the text stored in the string variable into a list of words.\n",
    "3. How many words are in this text?\n",
    "4. How many different words are in this text?"
   ]
  },
  {
   "cell_type": "markdown",
   "metadata": {},
   "source": [
    "### 1. "
   ]
  },
  {
   "cell_type": "code",
   "execution_count": 195,
   "metadata": {
    "collapsed": true
   },
   "outputs": [],
   "source": [
    "text1=\"das ist ein Text String mit zehn Wörtern neun zehn\""
   ]
  },
  {
   "cell_type": "markdown",
   "metadata": {},
   "source": [
    "### 2. "
   ]
  },
  {
   "cell_type": "code",
   "execution_count": 196,
   "metadata": {},
   "outputs": [
    {
     "data": {
      "text/plain": [
       "'das ist ein text string mit zehn wörtern neun zehn'"
      ]
     },
     "execution_count": 196,
     "metadata": {},
     "output_type": "execute_result"
    }
   ],
   "source": [
    "text1=text1.lower()\n",
    "text1"
   ]
  },
  {
   "cell_type": "markdown",
   "metadata": {},
   "source": [
    "### 3."
   ]
  },
  {
   "cell_type": "code",
   "execution_count": 204,
   "metadata": {},
   "outputs": [
    {
     "data": {
      "text/plain": [
       "50"
      ]
     },
     "execution_count": 204,
     "metadata": {},
     "output_type": "execute_result"
    }
   ],
   "source": [
    "len(text1)"
   ]
  },
  {
   "cell_type": "markdown",
   "metadata": {},
   "source": [
    "### 4."
   ]
  },
  {
   "cell_type": "code",
   "execution_count": 205,
   "metadata": {},
   "outputs": [
    {
     "data": {
      "text/plain": [
       "17"
      ]
     },
     "execution_count": 205,
     "metadata": {},
     "output_type": "execute_result"
    }
   ],
   "source": [
    "len(set(text1))"
   ]
  },
  {
   "cell_type": "markdown",
   "metadata": {},
   "source": [
    "### 5."
   ]
  },
  {
   "cell_type": "code",
   "execution_count": 207,
   "metadata": {},
   "outputs": [
    {
     "data": {
      "text/plain": [
       "['das',\n",
       " 'ist',\n",
       " 'ein',\n",
       " 'text',\n",
       " 'string',\n",
       " 'mit',\n",
       " 'zehn',\n",
       " 'wörtern',\n",
       " 'neun',\n",
       " 'zehn']"
      ]
     },
     "execution_count": 207,
     "metadata": {},
     "output_type": "execute_result"
    }
   ],
   "source": [
    "wordlist=text1.split(\" \")\n",
    "wordlist"
   ]
  },
  {
   "cell_type": "markdown",
   "metadata": {},
   "source": [
    "### 6."
   ]
  },
  {
   "cell_type": "code",
   "execution_count": 208,
   "metadata": {},
   "outputs": [
    {
     "data": {
      "text/plain": [
       "10"
      ]
     },
     "execution_count": 208,
     "metadata": {},
     "output_type": "execute_result"
    }
   ],
   "source": [
    "len(wordlist)"
   ]
  },
  {
   "cell_type": "markdown",
   "metadata": {},
   "source": [
    "### 7."
   ]
  },
  {
   "cell_type": "code",
   "execution_count": 209,
   "metadata": {},
   "outputs": [
    {
     "data": {
      "text/plain": [
       "9"
      ]
     },
     "execution_count": 209,
     "metadata": {},
     "output_type": "execute_result"
    }
   ],
   "source": [
    "len(set(wordlist))"
   ]
  },
  {
   "cell_type": "markdown",
   "metadata": {},
   "source": [
    "### Functions\n",
    "1. Write a function `stableAverage(numericList)`, which calculates and returns the arithmetic average value of the elements in a list (or numpy-array) with numeric values. The list of numeric values shall be passed to the function's argument `numericList`.\n",
    "2. Extend this function, such that it ignores the x% smallest and the x% highest values of the numeric list for the average calculations. The parameter x shall be implemented as a function-argument with default value 0.\n",
    "3. Test this function with a list (or numpy-array) of random numeric values.\n",
    "4. The arguments of the function above are the list `numericList` and the percentage `x` (float-type). Assume that the list and the percentage are modified within the function (actually there is no need for this!). Would the modification of the the list and the float-type percentage be outside the function after the function's call? "
   ]
  },
  {
   "cell_type": "markdown",
   "metadata": {},
   "source": [
    "### 1."
   ]
  },
  {
   "cell_type": "code",
   "execution_count": 269,
   "metadata": {
    "collapsed": true
   },
   "outputs": [],
   "source": [
    "def stableAverage(numericList):\n",
    "    sum=0\n",
    "    for i in numericList:\n",
    "        sum+=i\n",
    "        stableAverage=sum/len(numericList)\n",
    "    return stableAverage"
   ]
  },
  {
   "cell_type": "code",
   "execution_count": 270,
   "metadata": {},
   "outputs": [
    {
     "data": {
      "text/plain": [
       "5.4"
      ]
     },
     "execution_count": 270,
     "metadata": {},
     "output_type": "execute_result"
    }
   ],
   "source": [
    "list=[5,2,8,3,9]\n",
    "stableAverage(list)"
   ]
  },
  {
   "cell_type": "markdown",
   "metadata": {},
   "source": [
    "### 2. "
   ]
  },
  {
   "cell_type": "code",
   "execution_count": 358,
   "metadata": {
    "collapsed": true
   },
   "outputs": [],
   "source": [
    "def stableAverageIgn(numericList,x=0):\n",
    "    sum=0\n",
    "    percentNr=0\n",
    "    stableAverage=0\n",
    "    \n",
    "    percentNr=math.ceil((len(numericList))*x/100)\n",
    "    for i in range(percentNr):\n",
    "        del numericList[0]\n",
    "        del numericList[-1]\n",
    "    print(numericList)\n",
    "    for i in numericList:\n",
    "        sum+=i\n",
    "        stableAverage=sum/len(numericList)\n",
    "    return stableAverage"
   ]
  },
  {
   "cell_type": "code",
   "execution_count": 367,
   "metadata": {},
   "outputs": [
    {
     "name": "stdout",
     "output_type": "stream",
     "text": [
      "[9, 10]\n"
     ]
    },
    {
     "data": {
      "text/plain": [
       "9.5"
      ]
     },
     "execution_count": 367,
     "metadata": {},
     "output_type": "execute_result"
    }
   ],
   "source": [
    "list=[5,2,8,3,9,10,3,15,9,4]\n",
    "stableAverageIgn(list,35)"
   ]
  },
  {
   "cell_type": "markdown",
   "metadata": {},
   "source": [
    "### 3."
   ]
  },
  {
   "cell_type": "code",
   "execution_count": 368,
   "metadata": {},
   "outputs": [
    {
     "name": "stdout",
     "output_type": "stream",
     "text": [
      "[87, 10, 86, 88, 41, 40, 5, 29, 26, 15]\n",
      "[86, 88, 41, 40, 5, 29]\n"
     ]
    },
    {
     "data": {
      "text/plain": [
       "48.166666666666664"
      ]
     },
     "execution_count": 368,
     "metadata": {},
     "output_type": "execute_result"
    }
   ],
   "source": [
    "import random\n",
    "randomNrs=random.sample(range(1, 100), 10)\n",
    "print(randomNrs)\n",
    "stableAverageIgn(randomNrs,20)"
   ]
  },
  {
   "cell_type": "markdown",
   "metadata": {},
   "source": [
    "### 4."
   ]
  },
  {
   "cell_type": "code",
   "execution_count": 374,
   "metadata": {
    "collapsed": true
   },
   "outputs": [],
   "source": [
    "a=[1,2]\n",
    "b=1.8\n",
    "def testfunc(numericList,b):\n",
    "        numericList=[2,3]\n",
    "        b=2.5\n",
    "        return numericList, b"
   ]
  },
  {
   "cell_type": "code",
   "execution_count": 377,
   "metadata": {},
   "outputs": [
    {
     "name": "stdout",
     "output_type": "stream",
     "text": [
      "([2, 3], 2.5)\n",
      "[1, 2]\n",
      "1.8\n"
     ]
    }
   ],
   "source": [
    "print(testfunc(a,b))\n",
    "print(a)\n",
    "print(b)"
   ]
  },
  {
   "cell_type": "markdown",
   "metadata": {},
   "source": [
    "Inside the function $numericList$ and $b$ are only local variables. The changes can only be accessed when the function returns those values and are saved in new variables"
   ]
  },
  {
   "cell_type": "markdown",
   "metadata": {},
   "source": []
  }
 ],
 "metadata": {
  "anaconda-cloud": {},
  "kernelspec": {
   "display_name": "Python 3",
   "language": "python",
   "name": "python3"
  },
  "language_info": {
   "codemirror_mode": {
    "name": "ipython",
    "version": 3
   },
   "file_extension": ".py",
   "mimetype": "text/x-python",
   "name": "python",
   "nbconvert_exporter": "python",
   "pygments_lexer": "ipython3",
   "version": "3.6.3"
  },
  "nav_menu": {},
  "toc": {
   "nav_menu": {
    "height": "80px",
    "width": "251px"
   },
   "number_sections": true,
   "sideBar": true,
   "skip_h1_title": false,
   "title_cell": "Table of Contents",
   "title_sidebar": "Contents",
   "toc_cell": false,
   "toc_position": {},
   "toc_section_display": "block",
   "toc_window_display": false
  }
 },
 "nbformat": 4,
 "nbformat_minor": 2
}
