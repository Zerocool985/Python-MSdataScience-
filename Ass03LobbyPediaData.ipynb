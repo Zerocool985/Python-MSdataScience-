{
 "cells": [
  {
   "cell_type": "markdown",
   "metadata": {},
   "source": [
    "# Exercises on Pandas Dataframes\n",
    "\n",
    "* Author: Johannes Maucher\n",
    "* Last Update: 07.10.2018\n",
    "* Skills required:\n",
    "    - Import data from .csv\n",
    "    - Pandas Dataframes\n",
    "\n",
    "\n",
    "## To be submitted:\n",
    "This notebook, enhanced with the solutions to the questions. Your solution should contain \n",
    "   * the implemented code in code-cells, \n",
    "   * the output of this code\n",
    "   * Your remarks, discussion, comments on the solution in markdown-cells.\n",
    "   * .ipynb and .html version of the notebook\n",
    "\n"
   ]
  },
  {
   "cell_type": "markdown",
   "metadata": {},
   "source": [
    "## Task:\n",
    "\n",
    "### Subtask 1: Access, display and clean data\n",
    "1. Read data from [lobbyPediaParteispenden.csv](lobbyPediaParteispenden.csv) into Pandas dataframe. This file is a dump of the [Lobbypedia Database](https://lobbypedia.de/wiki/Hauptseite), which contains all donations of more than 10000.- Euros to German political parties. Hint: Set the argument `encoding=\"latin-1\"` in the `read_csv()`-method.\n",
    "2. Remove the columns `Bundesland`, `Branche`, `Kategorie` and `Schlagworte`, since these columns contain no relevant data. Determine the number of rows and columns in the resulting dataframe and display it's head.\n",
    "\n",
    "3. Transform the values in column `Betrag` into a numeric representation. This can be done by removing all characters behind the `,` (i.e. decimal places and the Euro-Sign are cut) and converting the type of this pruned string into an integer-type. Hint: Implement this transformation in a function, which is then passed to the `apply()`-function of the pandas dataframe. "
   ]
  },
  {
   "cell_type": "markdown",
   "metadata": {},
   "source": [
    "### 1."
   ]
  },
  {
   "cell_type": "code",
   "execution_count": 108,
   "metadata": {
    "collapsed": true
   },
   "outputs": [],
   "source": [
    "import pandas as pd\n",
    "import csv"
   ]
  },
  {
   "cell_type": "code",
   "execution_count": 109,
   "metadata": {
    "collapsed": true
   },
   "outputs": [],
   "source": [
    "lobby=pd.read_csv(\"lobbyPediaParteispenden.csv\",sep=\",\",encoding=\"latin-1\")\n"
   ]
  },
  {
   "cell_type": "code",
   "execution_count": 110,
   "metadata": {},
   "outputs": [
    {
     "data": {
      "text/html": [
       "<div>\n",
       "<style>\n",
       "    .dataframe thead tr:only-child th {\n",
       "        text-align: right;\n",
       "    }\n",
       "\n",
       "    .dataframe thead th {\n",
       "        text-align: left;\n",
       "    }\n",
       "\n",
       "    .dataframe tbody tr th {\n",
       "        vertical-align: top;\n",
       "    }\n",
       "</style>\n",
       "<table border=\"1\" class=\"dataframe\">\n",
       "  <thead>\n",
       "    <tr style=\"text-align: right;\">\n",
       "      <th></th>\n",
       "      <th>Unnamed: 0</th>\n",
       "      <th>Geldgeber</th>\n",
       "      <th>Kategorie</th>\n",
       "      <th>Betrag</th>\n",
       "      <th>Empfänger</th>\n",
       "      <th>Jahr</th>\n",
       "      <th>Ort</th>\n",
       "      <th>Bundesland</th>\n",
       "      <th>Branche</th>\n",
       "      <th>Schlagworte</th>\n",
       "    </tr>\n",
       "  </thead>\n",
       "  <tbody>\n",
       "    <tr>\n",
       "      <th>0</th>\n",
       "      <td>Parteispende:Münchener Rückversicherungs-Gesel...</td>\n",
       "      <td>Münchener Rückversicherungs-Gesellschaft AG</td>\n",
       "      <td>Kategorie:Parteispende</td>\n",
       "      <td>15000,00 </td>\n",
       "      <td>CDU</td>\n",
       "      <td>2014</td>\n",
       "      <td>München</td>\n",
       "      <td>nan</td>\n",
       "      <td>nan</td>\n",
       "      <td>nan</td>\n",
       "    </tr>\n",
       "    <tr>\n",
       "      <th>1</th>\n",
       "      <td>Parteispende:Münchener Rückversicherungs-Gesel...</td>\n",
       "      <td>Münchener Rückversicherungs-Gesellschaft AG</td>\n",
       "      <td>Kategorie:Parteispende</td>\n",
       "      <td>15000,00 </td>\n",
       "      <td>CDU</td>\n",
       "      <td>2011</td>\n",
       "      <td>München</td>\n",
       "      <td>nan</td>\n",
       "      <td>nan</td>\n",
       "      <td>nan</td>\n",
       "    </tr>\n",
       "    <tr>\n",
       "      <th>2</th>\n",
       "      <td>Parteispende:Münchener Rückversicherungs Gesel...</td>\n",
       "      <td>Münchener Rückversicherungs-Gesellschaft AG</td>\n",
       "      <td>Kategorie:Parteispende</td>\n",
       "      <td>15000,00 </td>\n",
       "      <td>SPD</td>\n",
       "      <td>2012</td>\n",
       "      <td>München</td>\n",
       "      <td>nan</td>\n",
       "      <td>nan</td>\n",
       "      <td>nan</td>\n",
       "    </tr>\n",
       "    <tr>\n",
       "      <th>3</th>\n",
       "      <td>Parteispende:Münchener Rückversicherungs Gesel...</td>\n",
       "      <td>Münchener Rückversicherungs-Gesellschaft AG</td>\n",
       "      <td>Kategorie:Parteispende</td>\n",
       "      <td>15000,00 </td>\n",
       "      <td>SPD</td>\n",
       "      <td>2011</td>\n",
       "      <td>München</td>\n",
       "      <td>nan</td>\n",
       "      <td>nan</td>\n",
       "      <td>nan</td>\n",
       "    </tr>\n",
       "    <tr>\n",
       "      <th>4</th>\n",
       "      <td>Parteispende:Münchener Rückversicherungsgesell...</td>\n",
       "      <td>Münchener Rückversicherungs-Gesellschaft AG</td>\n",
       "      <td>Kategorie:Parteispende</td>\n",
       "      <td>15000,00 </td>\n",
       "      <td>CSU</td>\n",
       "      <td>2005</td>\n",
       "      <td>München</td>\n",
       "      <td>nan</td>\n",
       "      <td>nan</td>\n",
       "      <td>nan</td>\n",
       "    </tr>\n",
       "  </tbody>\n",
       "</table>\n",
       "</div>"
      ],
      "text/plain": [
       "                                          Unnamed: 0  \\\n",
       "0  Parteispende:Münchener Rückversicherungs-Gesel...   \n",
       "1  Parteispende:Münchener Rückversicherungs-Gesel...   \n",
       "2  Parteispende:Münchener Rückversicherungs Gesel...   \n",
       "3  Parteispende:Münchener Rückversicherungs Gesel...   \n",
       "4  Parteispende:Münchener Rückversicherungsgesell...   \n",
       "\n",
       "                                     Geldgeber               Kategorie  \\\n",
       "0  Münchener Rückversicherungs-Gesellschaft AG  Kategorie:Parteispende   \n",
       "1  Münchener Rückversicherungs-Gesellschaft AG  Kategorie:Parteispende   \n",
       "2  Münchener Rückversicherungs-Gesellschaft AG  Kategorie:Parteispende   \n",
       "3  Münchener Rückversicherungs-Gesellschaft AG  Kategorie:Parteispende   \n",
       "4  Münchener Rückversicherungs-Gesellschaft AG  Kategorie:Parteispende   \n",
       "\n",
       "       Betrag Empfänger  Jahr      Ort  Bundesland  Branche  Schlagworte  \n",
       "0  15000,00        CDU  2014  München         nan      nan          nan  \n",
       "1  15000,00        CDU  2011  München         nan      nan          nan  \n",
       "2  15000,00        SPD  2012  München         nan      nan          nan  \n",
       "3  15000,00        SPD  2011  München         nan      nan          nan  \n",
       "4  15000,00        CSU  2005  München         nan      nan          nan  "
      ]
     },
     "execution_count": 110,
     "metadata": {},
     "output_type": "execute_result"
    }
   ],
   "source": [
    "lobby.head(5)"
   ]
  },
  {
   "cell_type": "markdown",
   "metadata": {},
   "source": [
    "### 2."
   ]
  },
  {
   "cell_type": "code",
   "execution_count": 111,
   "metadata": {
    "scrolled": true
   },
   "outputs": [],
   "source": [
    "lobbyClean=lobby.drop(labels=[\"Bundesland\", \"Branche\", \"Kategorie\", \"Schlagworte\"], axis=1)"
   ]
  },
  {
   "cell_type": "code",
   "execution_count": 112,
   "metadata": {},
   "outputs": [
    {
     "data": {
      "text/plain": [
       "(2466, 6)"
      ]
     },
     "execution_count": 112,
     "metadata": {},
     "output_type": "execute_result"
    }
   ],
   "source": [
    "lobbyClean.shape"
   ]
  },
  {
   "cell_type": "code",
   "execution_count": 113,
   "metadata": {},
   "outputs": [
    {
     "data": {
      "text/html": [
       "<div>\n",
       "<style>\n",
       "    .dataframe thead tr:only-child th {\n",
       "        text-align: right;\n",
       "    }\n",
       "\n",
       "    .dataframe thead th {\n",
       "        text-align: left;\n",
       "    }\n",
       "\n",
       "    .dataframe tbody tr th {\n",
       "        vertical-align: top;\n",
       "    }\n",
       "</style>\n",
       "<table border=\"1\" class=\"dataframe\">\n",
       "  <thead>\n",
       "    <tr style=\"text-align: right;\">\n",
       "      <th></th>\n",
       "      <th>Unnamed: 0</th>\n",
       "      <th>Geldgeber</th>\n",
       "      <th>Betrag</th>\n",
       "      <th>Empfänger</th>\n",
       "      <th>Jahr</th>\n",
       "      <th>Ort</th>\n",
       "    </tr>\n",
       "  </thead>\n",
       "  <tbody>\n",
       "    <tr>\n",
       "      <th>0</th>\n",
       "      <td>Parteispende:Münchener Rückversicherungs-Gesel...</td>\n",
       "      <td>Münchener Rückversicherungs-Gesellschaft AG</td>\n",
       "      <td>15000,00 </td>\n",
       "      <td>CDU</td>\n",
       "      <td>2014</td>\n",
       "      <td>München</td>\n",
       "    </tr>\n",
       "    <tr>\n",
       "      <th>1</th>\n",
       "      <td>Parteispende:Münchener Rückversicherungs-Gesel...</td>\n",
       "      <td>Münchener Rückversicherungs-Gesellschaft AG</td>\n",
       "      <td>15000,00 </td>\n",
       "      <td>CDU</td>\n",
       "      <td>2011</td>\n",
       "      <td>München</td>\n",
       "    </tr>\n",
       "    <tr>\n",
       "      <th>2</th>\n",
       "      <td>Parteispende:Münchener Rückversicherungs Gesel...</td>\n",
       "      <td>Münchener Rückversicherungs-Gesellschaft AG</td>\n",
       "      <td>15000,00 </td>\n",
       "      <td>SPD</td>\n",
       "      <td>2012</td>\n",
       "      <td>München</td>\n",
       "    </tr>\n",
       "    <tr>\n",
       "      <th>3</th>\n",
       "      <td>Parteispende:Münchener Rückversicherungs Gesel...</td>\n",
       "      <td>Münchener Rückversicherungs-Gesellschaft AG</td>\n",
       "      <td>15000,00 </td>\n",
       "      <td>SPD</td>\n",
       "      <td>2011</td>\n",
       "      <td>München</td>\n",
       "    </tr>\n",
       "    <tr>\n",
       "      <th>4</th>\n",
       "      <td>Parteispende:Münchener Rückversicherungsgesell...</td>\n",
       "      <td>Münchener Rückversicherungs-Gesellschaft AG</td>\n",
       "      <td>15000,00 </td>\n",
       "      <td>CSU</td>\n",
       "      <td>2005</td>\n",
       "      <td>München</td>\n",
       "    </tr>\n",
       "  </tbody>\n",
       "</table>\n",
       "</div>"
      ],
      "text/plain": [
       "                                          Unnamed: 0  \\\n",
       "0  Parteispende:Münchener Rückversicherungs-Gesel...   \n",
       "1  Parteispende:Münchener Rückversicherungs-Gesel...   \n",
       "2  Parteispende:Münchener Rückversicherungs Gesel...   \n",
       "3  Parteispende:Münchener Rückversicherungs Gesel...   \n",
       "4  Parteispende:Münchener Rückversicherungsgesell...   \n",
       "\n",
       "                                     Geldgeber      Betrag Empfänger  Jahr  \\\n",
       "0  Münchener Rückversicherungs-Gesellschaft AG  15000,00        CDU  2014   \n",
       "1  Münchener Rückversicherungs-Gesellschaft AG  15000,00        CDU  2011   \n",
       "2  Münchener Rückversicherungs-Gesellschaft AG  15000,00        SPD  2012   \n",
       "3  Münchener Rückversicherungs-Gesellschaft AG  15000,00        SPD  2011   \n",
       "4  Münchener Rückversicherungs-Gesellschaft AG  15000,00        CSU  2005   \n",
       "\n",
       "       Ort  \n",
       "0  München  \n",
       "1  München  \n",
       "2  München  \n",
       "3  München  \n",
       "4  München  "
      ]
     },
     "execution_count": 113,
     "metadata": {},
     "output_type": "execute_result"
    }
   ],
   "source": [
    "lobbyClean.head()"
   ]
  },
  {
   "cell_type": "markdown",
   "metadata": {},
   "source": [
    "### 3.\n",
    "\n",
    "3. Transform the values in column `Betrag` into a numeric representation. This can be done by removing all characters behind the `,` (i.e. decimal places and the Euro-Sign are cut) and converting the type of this pruned string into an integer-type. Hint: Implement this transformation in a function, which is then passed to the `apply()`-function of the pandas dataframe. "
   ]
  },
  {
   "cell_type": "code",
   "execution_count": 114,
   "metadata": {
    "collapsed": true
   },
   "outputs": [],
   "source": [
    "def prune(s):\n",
    "    sList=s.split(\",\")\n",
    "    return int(sList[0])\n"
   ]
  },
  {
   "cell_type": "code",
   "execution_count": 115,
   "metadata": {},
   "outputs": [],
   "source": [
    "lobbyClean.Betrag=lobbyClean.Betrag.apply(prune)"
   ]
  },
  {
   "cell_type": "code",
   "execution_count": 116,
   "metadata": {},
   "outputs": [
    {
     "data": {
      "text/plain": [
       "Unnamed: 0    object\n",
       "Geldgeber     object\n",
       "Betrag         int64\n",
       "Empfänger     object\n",
       "Jahr           int64\n",
       "Ort           object\n",
       "dtype: object"
      ]
     },
     "execution_count": 116,
     "metadata": {},
     "output_type": "execute_result"
    }
   ],
   "source": [
    "lobbyClean.dtypes"
   ]
  },
  {
   "cell_type": "code",
   "execution_count": 117,
   "metadata": {},
   "outputs": [
    {
     "data": {
      "text/html": [
       "<div>\n",
       "<style>\n",
       "    .dataframe thead tr:only-child th {\n",
       "        text-align: right;\n",
       "    }\n",
       "\n",
       "    .dataframe thead th {\n",
       "        text-align: left;\n",
       "    }\n",
       "\n",
       "    .dataframe tbody tr th {\n",
       "        vertical-align: top;\n",
       "    }\n",
       "</style>\n",
       "<table border=\"1\" class=\"dataframe\">\n",
       "  <thead>\n",
       "    <tr style=\"text-align: right;\">\n",
       "      <th></th>\n",
       "      <th>Unnamed: 0</th>\n",
       "      <th>Geldgeber</th>\n",
       "      <th>Betrag</th>\n",
       "      <th>Empfänger</th>\n",
       "      <th>Jahr</th>\n",
       "      <th>Ort</th>\n",
       "    </tr>\n",
       "  </thead>\n",
       "  <tbody>\n",
       "    <tr>\n",
       "      <th>0</th>\n",
       "      <td>Parteispende:Münchener Rückversicherungs-Gesel...</td>\n",
       "      <td>Münchener Rückversicherungs-Gesellschaft AG</td>\n",
       "      <td>15000</td>\n",
       "      <td>CDU</td>\n",
       "      <td>2014</td>\n",
       "      <td>München</td>\n",
       "    </tr>\n",
       "    <tr>\n",
       "      <th>1</th>\n",
       "      <td>Parteispende:Münchener Rückversicherungs-Gesel...</td>\n",
       "      <td>Münchener Rückversicherungs-Gesellschaft AG</td>\n",
       "      <td>15000</td>\n",
       "      <td>CDU</td>\n",
       "      <td>2011</td>\n",
       "      <td>München</td>\n",
       "    </tr>\n",
       "    <tr>\n",
       "      <th>2</th>\n",
       "      <td>Parteispende:Münchener Rückversicherungs Gesel...</td>\n",
       "      <td>Münchener Rückversicherungs-Gesellschaft AG</td>\n",
       "      <td>15000</td>\n",
       "      <td>SPD</td>\n",
       "      <td>2012</td>\n",
       "      <td>München</td>\n",
       "    </tr>\n",
       "    <tr>\n",
       "      <th>3</th>\n",
       "      <td>Parteispende:Münchener Rückversicherungs Gesel...</td>\n",
       "      <td>Münchener Rückversicherungs-Gesellschaft AG</td>\n",
       "      <td>15000</td>\n",
       "      <td>SPD</td>\n",
       "      <td>2011</td>\n",
       "      <td>München</td>\n",
       "    </tr>\n",
       "    <tr>\n",
       "      <th>4</th>\n",
       "      <td>Parteispende:Münchener Rückversicherungsgesell...</td>\n",
       "      <td>Münchener Rückversicherungs-Gesellschaft AG</td>\n",
       "      <td>15000</td>\n",
       "      <td>CSU</td>\n",
       "      <td>2005</td>\n",
       "      <td>München</td>\n",
       "    </tr>\n",
       "  </tbody>\n",
       "</table>\n",
       "</div>"
      ],
      "text/plain": [
       "                                          Unnamed: 0  \\\n",
       "0  Parteispende:Münchener Rückversicherungs-Gesel...   \n",
       "1  Parteispende:Münchener Rückversicherungs-Gesel...   \n",
       "2  Parteispende:Münchener Rückversicherungs Gesel...   \n",
       "3  Parteispende:Münchener Rückversicherungs Gesel...   \n",
       "4  Parteispende:Münchener Rückversicherungsgesell...   \n",
       "\n",
       "                                     Geldgeber  Betrag Empfänger  Jahr  \\\n",
       "0  Münchener Rückversicherungs-Gesellschaft AG   15000       CDU  2014   \n",
       "1  Münchener Rückversicherungs-Gesellschaft AG   15000       CDU  2011   \n",
       "2  Münchener Rückversicherungs-Gesellschaft AG   15000       SPD  2012   \n",
       "3  Münchener Rückversicherungs-Gesellschaft AG   15000       SPD  2011   \n",
       "4  Münchener Rückversicherungs-Gesellschaft AG   15000       CSU  2005   \n",
       "\n",
       "       Ort  \n",
       "0  München  \n",
       "1  München  \n",
       "2  München  \n",
       "3  München  \n",
       "4  München  "
      ]
     },
     "execution_count": 117,
     "metadata": {},
     "output_type": "execute_result"
    }
   ],
   "source": [
    "lobbyClean.head()"
   ]
  },
  {
   "cell_type": "markdown",
   "metadata": {
    "collapsed": true
   },
   "source": [
    "### Subtask 2: Data Analysis\n",
    "\n",
    "4. Calculate and display the summary of univariate descriptive statistics on this dataframe and answer the following questions:\n",
    "    1. Which company raises the most donations (number of donations, not amount)?\n",
    "    2. Which party receives the most donations (number of donations, not amount)?\n",
    "    3. What is the minimum, maximum and mean-value of party-donations?\n",
    "\n",
    "5. Calculate for all parties the sum, min, max and mean-value of donations received. Generate for each of these 4 descriptive statistics a bar-plot, which visualizes the distribution of the corresponding values. "
   ]
  },
  {
   "cell_type": "markdown",
   "metadata": {},
   "source": [
    "### 1."
   ]
  },
  {
   "cell_type": "code",
   "execution_count": 118,
   "metadata": {
    "scrolled": true
   },
   "outputs": [
    {
     "data": {
      "text/plain": [
       "BMW Bayerische Motoren Werke AG                                                   69\n",
       "Verband der Chemischen Industrie                                                  66\n",
       "VBM Verband der Bayerischen Metall- und Elektroindustrie e.V.                     61\n",
       "Südwestmetall Verband der Metall- und Elektroindustrie Baden-Württemberg e.V.     49\n",
       "Philip Morris GmbH                                                                49\n",
       "Allianz AG/SE                                                                     48\n",
       "METALL NRW - Verband der Metall- und Elektroindustrie Nordrhein-Westfalen e.V.    47\n",
       "Daimler                                                                           46\n",
       "Evonik Industries AG                                                              37\n",
       "Robert Bosch GmbH                                                                 34\n",
       "Deutsche Vermögensberatung AG DVAG                                                34\n",
       "Deutsche Bank AG                                                                  34\n",
       "EADS Deutschland GmbH                                                             32\n",
       "Münchener Rückversicherungs-Gesellschaft AG                                       32\n",
       "Südzucker AG                                                                      31\n",
       "ERGO Versicherungsgruppe AG                                                       28\n",
       "Rheinmetall AG                                                                    26\n",
       "Allianz                                                                           26\n",
       "Dr. August Oetker KG                                                              23\n",
       "Commerzbank AG                                                                    22\n",
       "Volkswagen AG                                                                     21\n",
       "DaimlerChrysler AG                                                                21\n",
       "Dr. Ing. h. c. F. Porsche AG                                                      19\n",
       "Fachverband Kartonverpackungen für flüssige Nahrungsmittel e.V.                   19\n",
       "Allfinanz Deutsche Vermögensberatung AG                                           18\n",
       "IBC Solar AG                                                                      17\n",
       "Bayerischer Bauindustrieverband e.V.                                              16\n",
       "Märkischer Arbeitgeberverband e.V.                                                16\n",
       "Berenberg Bank Joh. Berenberg, Gossler & Co. KG                                   16\n",
       "Arbeitgeberverband der Metall- und Elektroindustrie Lüdenscheid e.V.              16\n",
       "                                                                                  ..\n",
       "ECE Projektmanagement GmbH & Co. KG                                                1\n",
       "Guggenberger GmbH                                                                  1\n",
       "Q-Cells AG                                                                         1\n",
       "Weeber Zeltbetrieb GmbH & Co. KG                                                   1\n",
       "Arbeitsgemeinschaft der Grundbesitzerverbände e.V.                                 1\n",
       "Eberl Print GmbH                                                                   1\n",
       "Pöppelmann Holding GmbH & Co. KG                                                   1\n",
       "Deutsche Städte-Medien GmbH                                                        1\n",
       "LAV Service GmbH - Dienstleistungen für Apotheker                                  1\n",
       "Hildebrand & Jürgens GmbH                                                          1\n",
       "ART-KON-TOR Kommunikation GmbH                                                     1\n",
       "Dorther KG                                                                         1\n",
       "Mfi Management für Immobilien AG                                                   1\n",
       "Deutscher Beamtenwirtschaftsbund GmbH                                              1\n",
       "GRO Werbeagentur GmbH                                                              1\n",
       "AMAND Umwelttechnik Grumbach GmbH & Co. KG                                         1\n",
       "Gießner Bauunternehmung GmbH                                                       1\n",
       "Fr. Lürssen Werft GmbH & Co. KG                                                    1\n",
       "WILCOM Gesellschaft für Werbung und Kommunikation GmbH & Co. KG                    1\n",
       "Georg Merkel GmbH                                                                  1\n",
       "Schatt Holding GmbH                                                                1\n",
       "GATE Veranstaltungstechnik GmbH                                                    1\n",
       "G. E. A. Real Estate GmbH & Cie.                                                   1\n",
       "PENTA Gebäudeservice GmbH                                                          1\n",
       "Meinhardt Städtereinigung GmbH & Co. KG                                            1\n",
       "DEMOS Wohnbaugesellschaft mbH                                                      1\n",
       "DIC Asset AG                                                                       1\n",
       "Trox GmbH                                                                          1\n",
       "GIP Grundig Immobilienpark GmbH & Co. KG                                           1\n",
       "PF Kinobetriebe GmbH & Co. KG                                                      1\n",
       "Name: Geldgeber, Length: 880, dtype: int64"
      ]
     },
     "execution_count": 118,
     "metadata": {},
     "output_type": "execute_result"
    }
   ],
   "source": [
    "lobbyClean.GeldgebeGeldgeberr.value_counts()"
   ]
  },
  {
   "cell_type": "code",
   "execution_count": 119,
   "metadata": {},
   "outputs": [
    {
     "data": {
      "text/plain": [
       "CDU                      1085\n",
       "FDP                       429\n",
       "CSU                       422\n",
       "SPD                       356\n",
       "Bündnis 90/Die Grünen     161\n",
       "SSW                         6\n",
       "AFD                         3\n",
       "DIE PARTEI                  2\n",
       "LINKE                       1\n",
       "Name: Empfänger, dtype: int64"
      ]
     },
     "execution_count": 119,
     "metadata": {},
     "output_type": "execute_result"
    }
   ],
   "source": [
    "lobbyClean.Empfänger.value_counts()"
   ]
  },
  {
   "cell_type": "markdown",
   "metadata": {},
   "source": [
    "### 2."
   ]
  },
  {
   "cell_type": "code",
   "execution_count": 120,
   "metadata": {},
   "outputs": [],
   "source": [
    "lCmin=lobbyClean.groupby(by=\"Empfänger\")[\"Betrag\"].min()\n",
    "lCmax=lobbyClean.groupby(by=\"Empfänger\")[\"Betrag\"].max()\n",
    "lCmea=lobbyClean.groupby(by=\"Empfänger\")[\"Betrag\"].mean()\n",
    "lCsum=lobbyClean.groupby(by=\"Empfänger\")[\"Betrag\"].sum()\n"
   ]
  },
  {
   "cell_type": "code",
   "execution_count": 121,
   "metadata": {
    "collapsed": true
   },
   "outputs": [],
   "source": [
    "%matplotlib inline\n"
   ]
  },
  {
   "cell_type": "code",
   "execution_count": 122,
   "metadata": {
    "scrolled": true
   },
   "outputs": [
    {
     "data": {
      "text/plain": [
       "<matplotlib.axes._subplots.AxesSubplot at 0x1e57dd86da0>"
      ]
     },
     "execution_count": 122,
     "metadata": {},
     "output_type": "execute_result"
    },
    {
     "data": {
      "image/png": "[encoded data removed]",
      "text/plain": [
       "<matplotlib.figure.Figure at 0x1e57b399048>"
      ]
     },
     "metadata": {},
     "output_type": "display_data"
    }
   ],
   "source": [
    "lCmin.sort_values(ascending=False).plot(kind=\"bar\", figsize=(10,8), title=\"Smallest Donation per Party\")\n"
   ]
  },
  {
   "cell_type": "code",
   "execution_count": 123,
   "metadata": {},
   "outputs": [
    {
     "data": {
      "text/plain": [
       "<matplotlib.axes._subplots.AxesSubplot at 0x1e57d4d9dd8>"
      ]
     },
     "execution_count": 123,
     "metadata": {},
     "output_type": "execute_result"
    },
    {
     "data": {
      "image/png": "[encoded data removed]",
      "text/plain": [
       "<matplotlib.figure.Figure at 0x1e57dd9a6d8>"
      ]
     },
     "metadata": {},
     "output_type": "display_data"
    }
   ],
   "source": [
    "lCmax.sort_values(ascending=False).plot(kind=\"bar\", figsize=(10,8), title=\"Highest Donation per Party\")"
   ]
  },
  {
   "cell_type": "code",
   "execution_count": 124,
   "metadata": {},
   "outputs": [
    {
     "data": {
      "text/plain": [
       "<matplotlib.axes._subplots.AxesSubplot at 0x1e57d4f9d30>"
      ]
     },
     "execution_count": 124,
     "metadata": {},
     "output_type": "execute_result"
    },
    {
     "data": {
      "image/png": "[encoded data removed]",
      "text/plain": [
       "<matplotlib.figure.Figure at 0x1e57d5514a8>"
      ]
     },
     "metadata": {},
     "output_type": "display_data"
    }
   ],
   "source": [
    "lCmea.sort_values(ascending=False).plot(kind=\"bar\", figsize=(10,8), title=\"Mean Donations per Party\")"
   ]
  },
  {
   "cell_type": "code",
   "execution_count": 133,
   "metadata": {},
   "outputs": [
    {
     "data": {
      "text/plain": [
       "<matplotlib.axes._subplots.AxesSubplot at 0x1e57dd398d0>"
      ]
     },
     "execution_count": 133,
     "metadata": {},
     "output_type": "execute_result"
    },
    {
     "data": {
      "image/png": "[encoded data removed]",
      "text/plain": [
       "<matplotlib.figure.Figure at 0x1e57df35da0>"
      ]
     },
     "metadata": {},
     "output_type": "display_data"
    }
   ],
   "source": [
    "lCsum.sort_values(ascending=False).plot(kind=\"bar\", figsize=(10,8), title=\"Sum of Donations per Party\")"
   ]
  },
  {
   "cell_type": "markdown",
   "metadata": {},
   "source": [
    "### Subtask 3: Rearrange dataframe\n",
    "6. A new dataframe, which lists for each donator (Geldgeber) the sum of all donations and the distribution of the donations across the parties, shall be created. This dataframe allows comfortable answers on questions like \n",
    " * *Which companies are the strongest donators?*  \n",
    " * *Which parties do they support?*. \n",
    " \n",
    "    Each row of this dataframe shall belongs to one donator-company. Each column belongs to one party. And the value in row i, column j is the amount of donations from donator i to column j. There is an additional column `Total`, which lists the total amount of donations of the corresponding company. \n",
    "\n",
    "7. Save the dataframe to a file `donationsPerCompany.csv`.\n"
   ]
  },
  {
   "cell_type": "markdown",
   "metadata": {},
   "source": [
    "### 1."
   ]
  },
  {
   "cell_type": "code",
   "execution_count": 171,
   "metadata": {},
   "outputs": [],
   "source": [
    "import numpy as np\n",
    "Geldgeber=lobbyClean.pivot_table(index=\"Geldgeber\",columns=\"Empfänger\", values=\"Betrag\", aggfunc=np.sum)"
   ]
  },
  {
   "cell_type": "code",
   "execution_count": 172,
   "metadata": {},
   "outputs": [
    {
     "data": {
      "text/html": [
       "<div>\n",
       "<style>\n",
       "    .dataframe thead tr:only-child th {\n",
       "        text-align: right;\n",
       "    }\n",
       "\n",
       "    .dataframe thead th {\n",
       "        text-align: left;\n",
       "    }\n",
       "\n",
       "    .dataframe tbody tr th {\n",
       "        vertical-align: top;\n",
       "    }\n",
       "</style>\n",
       "<table border=\"1\" class=\"dataframe\">\n",
       "  <thead>\n",
       "    <tr style=\"text-align: right;\">\n",
       "      <th>Empfänger</th>\n",
       "      <th>AFD</th>\n",
       "      <th>Bündnis 90/Die Grünen</th>\n",
       "      <th>CDU</th>\n",
       "      <th>CSU</th>\n",
       "      <th>DIE PARTEI</th>\n",
       "      <th>FDP</th>\n",
       "      <th>LINKE</th>\n",
       "      <th>SPD</th>\n",
       "      <th>SSW</th>\n",
       "    </tr>\n",
       "    <tr>\n",
       "      <th>Geldgeber</th>\n",
       "      <th></th>\n",
       "      <th></th>\n",
       "      <th></th>\n",
       "      <th></th>\n",
       "      <th></th>\n",
       "      <th></th>\n",
       "      <th></th>\n",
       "      <th></th>\n",
       "      <th></th>\n",
       "    </tr>\n",
       "  </thead>\n",
       "  <tbody>\n",
       "    <tr>\n",
       "      <th>A. Zovko GmbH &amp; Co. KG</th>\n",
       "      <td>nan</td>\n",
       "      <td>nan</td>\n",
       "      <td>10300.00</td>\n",
       "      <td>nan</td>\n",
       "      <td>nan</td>\n",
       "      <td>nan</td>\n",
       "      <td>nan</td>\n",
       "      <td>nan</td>\n",
       "      <td>nan</td>\n",
       "    </tr>\n",
       "    <tr>\n",
       "      <th>A.T.U Auto-Teile-Unger GmbH &amp; Co. KG</th>\n",
       "      <td>nan</td>\n",
       "      <td>nan</td>\n",
       "      <td>nan</td>\n",
       "      <td>10775.00</td>\n",
       "      <td>nan</td>\n",
       "      <td>nan</td>\n",
       "      <td>nan</td>\n",
       "      <td>nan</td>\n",
       "      <td>nan</td>\n",
       "    </tr>\n",
       "    <tr>\n",
       "      <th>ABB Asea Brown Boveri AG</th>\n",
       "      <td>nan</td>\n",
       "      <td>nan</td>\n",
       "      <td>10556.00</td>\n",
       "      <td>nan</td>\n",
       "      <td>nan</td>\n",
       "      <td>nan</td>\n",
       "      <td>nan</td>\n",
       "      <td>nan</td>\n",
       "      <td>nan</td>\n",
       "    </tr>\n",
       "    <tr>\n",
       "      <th>ADIB Agrar-, Dienstleistungs-, Industrie- und Baugesellschaft mbH</th>\n",
       "      <td>nan</td>\n",
       "      <td>nan</td>\n",
       "      <td>13500.00</td>\n",
       "      <td>nan</td>\n",
       "      <td>nan</td>\n",
       "      <td>nan</td>\n",
       "      <td>nan</td>\n",
       "      <td>nan</td>\n",
       "      <td>nan</td>\n",
       "    </tr>\n",
       "    <tr>\n",
       "      <th>ADVERMA, Advertising &amp; Marketing GmbH</th>\n",
       "      <td>nan</td>\n",
       "      <td>nan</td>\n",
       "      <td>nan</td>\n",
       "      <td>10912.00</td>\n",
       "      <td>nan</td>\n",
       "      <td>nan</td>\n",
       "      <td>nan</td>\n",
       "      <td>nan</td>\n",
       "      <td>nan</td>\n",
       "    </tr>\n",
       "  </tbody>\n",
       "</table>\n",
       "</div>"
      ],
      "text/plain": [
       "Empfänger                                           AFD  \\\n",
       "Geldgeber                                                 \n",
       "A. Zovko GmbH & Co. KG                              nan   \n",
       "A.T.U Auto-Teile-Unger GmbH & Co. KG                nan   \n",
       "ABB Asea Brown Boveri AG                            nan   \n",
       "ADIB Agrar-, Dienstleistungs-, Industrie- und B...  nan   \n",
       "ADVERMA, Advertising & Marketing GmbH               nan   \n",
       "\n",
       "Empfänger                                           Bündnis 90/Die Grünen  \\\n",
       "Geldgeber                                                                   \n",
       "A. Zovko GmbH & Co. KG                                                nan   \n",
       "A.T.U Auto-Teile-Unger GmbH & Co. KG                                  nan   \n",
       "ABB Asea Brown Boveri AG                                              nan   \n",
       "ADIB Agrar-, Dienstleistungs-, Industrie- und B...                    nan   \n",
       "ADVERMA, Advertising & Marketing GmbH                                 nan   \n",
       "\n",
       "Empfänger                                               CDU      CSU  \\\n",
       "Geldgeber                                                              \n",
       "A. Zovko GmbH & Co. KG                             10300.00      nan   \n",
       "A.T.U Auto-Teile-Unger GmbH & Co. KG                    nan 10775.00   \n",
       "ABB Asea Brown Boveri AG                           10556.00      nan   \n",
       "ADIB Agrar-, Dienstleistungs-, Industrie- und B... 13500.00      nan   \n",
       "ADVERMA, Advertising & Marketing GmbH                   nan 10912.00   \n",
       "\n",
       "Empfänger                                           DIE PARTEI  FDP  LINKE  \\\n",
       "Geldgeber                                                                    \n",
       "A. Zovko GmbH & Co. KG                                     nan  nan    nan   \n",
       "A.T.U Auto-Teile-Unger GmbH & Co. KG                       nan  nan    nan   \n",
       "ABB Asea Brown Boveri AG                                   nan  nan    nan   \n",
       "ADIB Agrar-, Dienstleistungs-, Industrie- und B...         nan  nan    nan   \n",
       "ADVERMA, Advertising & Marketing GmbH                      nan  nan    nan   \n",
       "\n",
       "Empfänger                                           SPD  SSW  \n",
       "Geldgeber                                                     \n",
       "A. Zovko GmbH & Co. KG                              nan  nan  \n",
       "A.T.U Auto-Teile-Unger GmbH & Co. KG                nan  nan  \n",
       "ABB Asea Brown Boveri AG                            nan  nan  \n",
       "ADIB Agrar-, Dienstleistungs-, Industrie- und B...  nan  nan  \n",
       "ADVERMA, Advertising & Marketing GmbH               nan  nan  "
      ]
     },
     "execution_count": 172,
     "metadata": {},
     "output_type": "execute_result"
    }
   ],
   "source": [
    "Geldgeber.head()"
   ]
  },
  {
   "cell_type": "markdown",
   "metadata": {},
   "source": [
    "### 2."
   ]
  },
  {
   "cell_type": "code",
   "execution_count": 173,
   "metadata": {
    "collapsed": true
   },
   "outputs": [],
   "source": [
    "Geldgeber.to_csv(\"donationsPerCompany.csv\")"
   ]
  }
 ],
 "metadata": {
  "kernelspec": {
   "display_name": "Python 3",
   "language": "python",
   "name": "python3"
  },
  "language_info": {
   "codemirror_mode": {
    "name": "ipython",
    "version": 3
   },
   "file_extension": ".py",
   "mimetype": "text/x-python",
   "name": "python",
   "nbconvert_exporter": "python",
   "pygments_lexer": "ipython3",
   "version": "3.6.3"
  },
  "toc": {
   "nav_menu": {},
   "number_sections": true,
   "sideBar": true,
   "skip_h1_title": false,
   "title_cell": "Table of Contents",
   "title_sidebar": "Contents",
   "toc_cell": false,
   "toc_position": {},
   "toc_section_display": true,
   "toc_window_display": false
  }
 },
 "nbformat": 4,
 "nbformat_minor": 2
}
